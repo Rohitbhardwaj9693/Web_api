{
 "cells": [
  {
   "cell_type": "code",
   "execution_count": 1,
   "id": "a79f7ab4-f142-49f5-9dbc-fc6f2e2bc727",
   "metadata": {},
   "outputs": [],
   "source": [
    "                                                                        # NAME :- Rohit Bhardwaj\n",
    "                                                                        # Assignment :- Web API\n",
    "                                                                        # BATCH :- Data science master\n",
    "                                                                        \n",
    "\n",
    "\n",
    "# Q1. What is API?Give an example ,whera an API is used in real life.\n",
    "\n",
    "\n",
    "# An API, or application programming interface, is a set of defined rules \n",
    "# that enable different applications to communicate with each other\n",
    "\n",
    "# A simple way to understand how APIs work is to look at a common\n",
    "# example—third-party payment processing. When a user purchases a \n",
    "# product on an ecommerce site, they may be prompted to “Pay with \n",
    "# Paypal” or another type of third-party system. This function relies\n",
    "# on APIs to make the connecti"
   ]
  },
  {
   "cell_type": "code",
   "execution_count": null,
   "id": "826e0042-9974-4271-a224-5f62fd08eca5",
   "metadata": {},
   "outputs": [],
   "source": []
  },
  {
   "cell_type": "code",
   "execution_count": 2,
   "id": "e9fe4a5e-21ca-4392-ad5a-9ea385bfdca9",
   "metadata": {},
   "outputs": [],
   "source": [
    "# Q2.Give advantage and disadvantage of using API.\n",
    "\n",
    "# The major benefit of using an API is accessing and consuming data and \n",
    "# services from thousands of independent sources. This means organizations\n",
    "# of all sizes can access these functionalities without developing their\n",
    "# own specialized applications. Other major benefits to using APIs include: \n",
    "#     APIs increase business agility\n",
    "    \n",
    "    \n",
    "# Bound by constraints. Rest APIs are by and large bound by six architectural \n",
    "# constraints which include the uniform interface, the client-server \n",
    "# based nature, stateless operations, layered system architecture, etc. \n",
    "# Learning curve for new developers. ...\n",
    "# Lacks security. ...\n",
    "# Limited transfer protocol support.    "
   ]
  },
  {
   "cell_type": "code",
   "execution_count": null,
   "id": "a8602a4e-348e-4702-9d49-ca66bae6cbc6",
   "metadata": {},
   "outputs": [],
   "source": []
  },
  {
   "cell_type": "code",
   "execution_count": 3,
   "id": "04817f2d-b282-42fb-862e-0618d78bdc9a",
   "metadata": {},
   "outputs": [],
   "source": [
    "# Q3.What is Web API ? Different between API and Web API.\n",
    "\n",
    "\n",
    "# Web API is an API as the name suggests, it can be accessed over the web\n",
    "# using the HTTP protocol. It is a framework that helps you to create and\n",
    "# develop HTTP based RESTFUL services. The web API can be developed by using \n",
    "# different technologies such as java, ASP.NET, \n",
    "\n",
    "# Web service is used to communicate between two machines on a network. \n",
    "# Web API is used as an interface between two different applications for\n",
    "# communicating with each other. It uses HTML requests that can be compressed\n",
    "# , but XML data cannot be compressed. Data can be compressed"
   ]
  },
  {
   "cell_type": "code",
   "execution_count": null,
   "id": "70be262b-a2f1-43ae-ae58-a66558c6fdc5",
   "metadata": {},
   "outputs": [],
   "source": []
  },
  {
   "cell_type": "code",
   "execution_count": 4,
   "id": "cc4959a4-1760-4796-a895-a6587b20b90d",
   "metadata": {},
   "outputs": [],
   "source": [
    "# Q4. Explain REST and SOAP Architecture. Mention shortcomings of SOAP.\n",
    "# REST API\n",
    "# Implementation :-Rest API is implemented as it has no official standard at \n",
    "# all because it is an architectural style\n",
    "\n",
    "# SOAP API\n",
    "# Implementation:-On other hand SOAP API has an official standard because \n",
    "# it is a protocol.\n",
    "\n",
    "# REST API\n",
    "# Internal communication:-REST APIs uses multiple standards like HTTP, \n",
    "# JSON, URL, and XML for data communication and transfer\n",
    "\n",
    "\n",
    "# SOAP API\n",
    "# Internal communication:-SOAP APIs is largely based and uses only HTTP and XML."
   ]
  },
  {
   "cell_type": "code",
   "execution_count": null,
   "id": "395820ca-0c4f-4e51-b4e4-1132b588669d",
   "metadata": {},
   "outputs": [],
   "source": []
  },
  {
   "cell_type": "code",
   "execution_count": null,
   "id": "59c5acff-658c-4bb2-b6a6-22a2e2880f19",
   "metadata": {},
   "outputs": [],
   "source": [
    "#Q5 Differentiate between REST and SOAP.\n",
    "\n",
    "# Representational state transfer (REST) is a set of architectural principles.\n",
    "# Simple object access protocol (SOAP) is an official protocol maintained by\n",
    "# the World Wide Web Consortium (W3C). The main difference is that SOAP\n",
    "# is a protocol while REST is not\n",
    "\n",
    "# SOAP stands for Simple Object Access Protocol whereas REST stands for \n",
    "# Representational State Transfer.\n",
    "\n",
    "# SOAP is a protocol whereas REST is an architectural pattern.\n",
    "\n",
    "\n",
    "# SOAP uses service interfaces to expose its functionality to client\n",
    "# applications while REST uses Uniform Service locators to\n",
    "\n",
    "\n",
    "# SOAP needs more bandwidth for its usage whereas REST doesn’t need much\n",
    "# bandwidth."
   ]
  }
 ],
 "metadata": {
  "kernelspec": {
   "display_name": "Python 3 (ipykernel)",
   "language": "python",
   "name": "python3"
  },
  "language_info": {
   "codemirror_mode": {
    "name": "ipython",
    "version": 3
   },
   "file_extension": ".py",
   "mimetype": "text/x-python",
   "name": "python",
   "nbconvert_exporter": "python",
   "pygments_lexer": "ipython3",
   "version": "3.10.8"
  }
 },
 "nbformat": 4,
 "nbformat_minor": 5
}
